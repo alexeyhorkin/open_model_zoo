{
 "cells": [
  {
   "cell_type": "code",
   "execution_count": 23,
   "metadata": {},
   "outputs": [],
   "source": [
    "import os\n",
    "import sys\n",
    "import numpy as np\n",
    "import matplotlib as mpl\n",
    "import matplotlib.pyplot as plt\n",
    "\n",
    "\n",
    "from tqdm import tqdm\n",
    "from itkwidgets import view\n",
    "from collections import defaultdict\n",
    "from openvino.inference_engine import IECore"
   ]
  },
  {
   "cell_type": "code",
   "execution_count": null,
   "metadata": {},
   "outputs": [],
   "source": [
    "# TODO wget"
   ]
  },
  {
   "cell_type": "markdown",
   "metadata": {},
   "source": [
    "### Define useful functions"
   ]
  },
  {
   "cell_type": "code",
   "execution_count": 24,
   "metadata": {},
   "outputs": [],
   "source": [
    "def get_config():\n",
    "    config = defaultdict(str)\n",
    "    config.update(\n",
    "            {\"model\": '../../../../facies_classification_benchmark/snap/DeconvNet_model.xml',\n",
    "             \"data_path\": 'train_seismic.npy',\n",
    "             \"name_classes\": ['upper_ns', 'middle_ns',\n",
    "                            'lower_ns', 'rijnland_chalk',\n",
    "                            'scruff', 'zechstein'],\n",
    "             \"cpu_extension\": 'libuser_cpu_extension_for_max_unpool.so',\n",
    "             \"edge_one\": (49,32,100),\n",
    "             \"edge_two\": (149, 600, 244),\n",
    "             \"device\":\"CPU\"})\n",
    "\n",
    "    return config    "
   ]
  },
  {
   "cell_type": "code",
   "execution_count": 35,
   "metadata": {},
   "outputs": [],
   "source": [
    "def normalize(data, mu=0, std=1):\n",
    "    if not isinstance(data, np.ndarray):\n",
    "        data = np.array(data)\n",
    "    data = (data - data.flatten().mean())/data.flatten().std()\n",
    "    return data * std + mu\n",
    "\n",
    "def load_data(config):\n",
    "    data_format = config[\"data_path\"].split('.')[1]\n",
    "    assert not (config[\"data_path\"].split('.')[0] == '' or data_format == ''), \\\n",
    "        f'Invalid path to data file: {config[\"data_path\"]}'\n",
    "    if data_format == 'npy':\n",
    "        data = np.load(config[\"data_path\"])\n",
    "    elif data_format == 'dat':\n",
    "        data = np.fromfile(config[\"data_path\"])\n",
    "    elif data_format == 'segy':\n",
    "        import segyio\n",
    "        data = segyio.tools.cube(config[\"data_path\"])\n",
    "        data = np.moveaxis(data, -1, 0)\n",
    "        data = np.ascontiguousarray(data, 'float32')\n",
    "    else:\n",
    "        assert False, f'Unsupported data format: {data_format}'\n",
    "\n",
    "    data = normalize(data, mu=1e-8, std=0.2097654)\n",
    "    print(f\"[INFO] Dataset has been loaded, shape is {data.shape}\")\n",
    "    print(f\"[INFO] Dataset mean is {data.flatten().mean():.5f}, std {data.flatten().std():.5f}\")\n",
    "    \n",
    "    x_min =  min(config[\"edge_one\"][0], config[\"edge_two\"][0])\n",
    "    x_max =  max(config[\"edge_one\"][0], config[\"edge_two\"][0])\n",
    "    y_min =  min(config[\"edge_one\"][1], config[\"edge_two\"][1])\n",
    "    y_max =  max(config[\"edge_one\"][1], config[\"edge_two\"][1])\n",
    "    z_min =  min(config[\"edge_one\"][2], config[\"edge_two\"][2])\n",
    "    z_max =  max(config[\"edge_one\"][2], config[\"edge_two\"][2])\n",
    "    x_lim, y_lim, z_lim = data.shape\n",
    "    assert x_min >=0 and y_min>=0 and z_min >= 0\n",
    "    assert x_max < x_lim and y_max < y_lim and z_max < z_lim, \"Invalid edges\"\n",
    "    sub_data = data[x_min: x_max , y_min: y_max, z_min: z_max]\n",
    "    return sub_data"
   ]
  },
  {
   "cell_type": "code",
   "execution_count": 36,
   "metadata": {},
   "outputs": [],
   "source": [
    "def reshape_model(net, shape):\n",
    "    index_of_minimal_dim = np.argmin(shape)\n",
    "    input_data_shape = list(shape)\n",
    "    del input_data_shape[index_of_minimal_dim]\n",
    "\n",
    "    input_net_info = net.input_info\n",
    "    input_name = next(iter(input_net_info))\n",
    "    input_net_shape = input_net_info[input_name].input_data.shape\n",
    "    \n",
    "    print(f\"[INFO] Infer should be on {input_data_shape} resolution\")\n",
    "    if input_data_shape != input_net_shape[-2:]:\n",
    "        net.reshape({input_name: [1, 1, *input_data_shape]})\n",
    "        print(f\"[INFO] Reshaping model to fit for slice shape: {input_data_shape}\")\n",
    "    else:\n",
    "        print(f\"[INFO] Use not reshaped model\")"
   ]
  },
  {
   "cell_type": "code",
   "execution_count": 37,
   "metadata": {},
   "outputs": [],
   "source": [
    "def infer_cube(exec_next, data):\n",
    "    index_of_minimal_dim = np.argmin(data.shape)\n",
    "    predicted_cube = np.empty(data.shape)\n",
    "    size = data.shape[index_of_minimal_dim]\n",
    "    for slice_index in tqdm(range(size)):\n",
    "        if index_of_minimal_dim == 0:\n",
    "            inp = data[slice_index, :, :]\n",
    "            out = exec_net.infer(inputs={'input': inp})['output']\n",
    "            out = np.argmax(out, axis=1).squeeze()\n",
    "            predicted_cube[slice_index, :, :] = out\n",
    "        if index_of_minimal_dim == 1:\n",
    "            inp = data[:, slice_index, :]\n",
    "            out = exec_net.infer(inputs={'input': inp})['output']\n",
    "            out = np.argmax(out, axis=1).squeeze()\n",
    "            predicted_cube[:, slice_index, :] = out\n",
    "        if index_of_minimal_dim == 2:\n",
    "            inp = data[:, :, slice_index]\n",
    "            out = exec_net.infer(inputs={'input': inp})['output']\n",
    "            out = np.argmax(out, axis=1).squeeze()\n",
    "            predicted_cube[:, :, slice_index] = out\n",
    "    return predicted_cube"
   ]
  },
  {
   "cell_type": "code",
   "execution_count": 38,
   "metadata": {},
   "outputs": [],
   "source": [
    "def discrete_cmap(N, base_cmap=None):\n",
    "    \"\"\"Create an N-bin discrete colormap from the specified input map\"\"\"\n",
    "\n",
    "    # Note that if base_cmap is a string or None, you can simply do\n",
    "    #    return plt.cm.get_cmap(base_cmap, N)\n",
    "    # The following works for string, None, or a colormap instance:\n",
    "\n",
    "    base = plt.cm.get_cmap(base_cmap)\n",
    "    color_list = base(np.linspace(0, 1, N))\n",
    "    cmap_name = base.name + str(N)\n",
    "    return base.from_list(cmap_name, color_list, N)\n",
    "\n",
    "def show_legend(N, cmap_name):\n",
    "    base = plt.cm.get_cmap(cmap_name)\n",
    "    color_list = base(np.linspace(0, 1, N))\n",
    "    print(color_list)\n",
    "    \n",
    "def show_legend(labels, cmap):\n",
    "    N = len(labels)\n",
    "    fig = plt.figure(figsize=(12, 6))\n",
    "    ax1 = fig.add_axes([0.05, 0.80, 0.9, 0.15])\n",
    "    cb1 = mpl.colorbar.ColorbarBase(ax1, cmap=cmap,\n",
    "                                    ticks=np.arange(0, N, 1)/N + 1/(2*N),\n",
    "                                    orientation='horizontal')\n",
    "    cb1.ax.set_xticklabels(labels, fontsize = 20)\n",
    "    cb1.set_label('Legend', fontsize = 24)\n",
    "    plt.show()"
   ]
  },
  {
   "cell_type": "markdown",
   "metadata": {},
   "source": [
    "### Get config and load dataset"
   ]
  },
  {
   "cell_type": "code",
   "execution_count": 39,
   "metadata": {},
   "outputs": [
    {
     "name": "stdout",
     "output_type": "stream",
     "text": [
      "[INFO] Dataset has been loaded, shape is (401, 701, 255)\n",
      "[INFO] Dataset mean is 0.00000, std 0.20977\n"
     ]
    }
   ],
   "source": [
    "config = get_config()\n",
    "data = load_data(config)"
   ]
  },
  {
   "cell_type": "markdown",
   "metadata": {},
   "source": [
    "### Load model"
   ]
  },
  {
   "cell_type": "code",
   "execution_count": 40,
   "metadata": {},
   "outputs": [],
   "source": [
    "ie = IECore()\n",
    "if config[\"cpu_extension\"] and config[\"device\"] == \"CPU\":\n",
    "    ie.add_extension(config[\"cpu_extension\"], \"CPU\")\n",
    "net = ie.read_network(config[\"model\"], os.path.splitext(config[\"model\"])[0] + \".bin\")"
   ]
  },
  {
   "cell_type": "markdown",
   "metadata": {},
   "source": [
    "### Prepare model"
   ]
  },
  {
   "cell_type": "code",
   "execution_count": 41,
   "metadata": {},
   "outputs": [
    {
     "name": "stdout",
     "output_type": "stream",
     "text": [
      "[INFO] Infer should be on [568, 144] resolution\n",
      "[INFO] Reshaping model to fit for slice shape: [568, 144]\n"
     ]
    }
   ],
   "source": [
    "reshape_model(net, data.shape)\n",
    "exec_net = ie.load_network(network=net, device_name=config[\"device\"])"
   ]
  },
  {
   "cell_type": "markdown",
   "metadata": {},
   "source": [
    "### Run model"
   ]
  },
  {
   "cell_type": "code",
   "execution_count": 42,
   "metadata": {},
   "outputs": [
    {
     "name": "stderr",
     "output_type": "stream",
     "text": [
      "100%|██████████| 100/100 [00:11<00:00,  8.51it/s]\n"
     ]
    }
   ],
   "source": [
    "predicted_data = infer_cube(exec_net, data)"
   ]
  },
  {
   "cell_type": "markdown",
   "metadata": {},
   "source": [
    "### Visualize original data"
   ]
  },
  {
   "cell_type": "code",
   "execution_count": 88,
   "metadata": {},
   "outputs": [
    {
     "data": {
      "application/vnd.jupyter.widget-view+json": {
       "model_id": "528970e3296945b39a185d9dd0d85ae7",
       "version_major": 2,
       "version_minor": 0
      },
      "text/plain": [
       "Viewer(cmap='Custom NumPy 1606930026.685257', geometries=[], gradient_opacity=0.22, point_sets=[], rendered_im…"
      ]
     },
     "metadata": {},
     "output_type": "display_data"
    }
   ],
   "source": [
    "viewer_orig_data = view(data, shadow=False)\n",
    "viewer_orig_data.cmap = np.array([[i/count, i/count, i/count] for i in range(100)])\n",
    "viewer_orig_data"
   ]
  },
  {
   "cell_type": "markdown",
   "metadata": {},
   "source": [
    "### Visualize seismic interpretation"
   ]
  },
  {
   "cell_type": "code",
   "execution_count": 89,
   "metadata": {},
   "outputs": [
    {
     "data": {
      "image/png": "[encoded data removed]",
      "text/plain": [
       "<Figure size 864x432 with 1 Axes>"
      ]
     },
     "metadata": {
      "needs_background": "light"
     },
     "output_type": "display_data"
    },
    {
     "data": {
      "application/vnd.jupyter.widget-view+json": {
       "model_id": "1962d992c22c40a580e28899e1c03d79",
       "version_major": 2,
       "version_minor": 0
      },
      "text/plain": [
       "Viewer(camera=array([[ 2.6412067e+02, -3.6077603e+02,  7.9100334e+01],\n",
       "       [ 7.1500000e+01,  9.4000000e+01,…"
      ]
     },
     "metadata": {},
     "output_type": "display_data"
    }
   ],
   "source": [
    "cmap = discrete_cmap(len(config[\"name_classes\"]), 'jet')\n",
    "show_legend(config[\"name_classes\"], cmap)\n",
    "viewer_interpret_data = view(predicted_data, shadow=False)\n",
    "viewer_interpret_data.cmap = cmap\n",
    "viewer_interpret_data.camera = viewer2.camera\n",
    "viewer_interpret_data"
   ]
  },
  {
   "cell_type": "code",
   "execution_count": 90,
   "metadata": {},
   "outputs": [],
   "source": [
    "viewer_interpret_data.camera = viewer_orig_data.camera"
   ]
  },
  {
   "cell_type": "code",
   "execution_count": null,
   "metadata": {},
   "outputs": [],
   "source": []
  }
 ],
 "metadata": {
  "kernelspec": {
   "display_name": "seismic-interpretation3",
   "language": "python",
   "name": "seismic-interpretation3"
  },
  "language_info": {
   "codemirror_mode": {
    "name": "ipython",
    "version": 3
   },
   "file_extension": ".py",
   "mimetype": "text/x-python",
   "name": "python",
   "nbconvert_exporter": "python",
   "pygments_lexer": "ipython3",
   "version": "3.6.9"
  }
 },
 "nbformat": 4,
 "nbformat_minor": 4
}
